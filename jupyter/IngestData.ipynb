{
 "cells": [
  {
   "cell_type": "code",
   "execution_count": 1,
   "metadata": {},
   "outputs": [],
   "source": [
    "import pandas as pd\n",
    "import json\n",
    "from collections import OrderedDict\n",
    "from itertools import groupby\n",
    "from datetime import datetime\n",
    "from pymongo import MongoClient"
   ]
  },
  {
   "cell_type": "code",
   "execution_count": 2,
   "metadata": {},
   "outputs": [],
   "source": [
    "# Connect\n",
    "client = MongoClient(\"mongodb://mongo:27017\")\n",
    "\n",
    "# Connect to `inspector_restaurant` database\n",
    "db = client['inspector_restaurant']"
   ]
  },
  {
   "cell_type": "code",
   "execution_count": 3,
   "metadata": {},
   "outputs": [],
   "source": [
    "# NOTE - change the `nrows=None` argument to a smaller number for tesitng\n",
    "# i.e. `nrows=100` will only load the first 100 rows\n",
    "# df = pd.read_csv('Food_Service_Establishment_Inspections__Beginning_2005__ACTIVE_.csv', nrows=1000)\n",
    "df = pd.read_csv('Food_Service_Establishment_Inspections__Beginning_2005__ACTIVE_.csv')"
   ]
  },
  {
   "cell_type": "code",
   "execution_count": 4,
   "metadata": {
    "scrolled": true
   },
   "outputs": [],
   "source": [
    "# df.head()"
   ]
  },
  {
   "cell_type": "code",
   "execution_count": 5,
   "metadata": {},
   "outputs": [],
   "source": [
    "def sanitizeCity(city):\n",
    "    city = city.strip().title()\n",
    "    \n",
    "    # Handles edge cases\n",
    "    city = city.replace(', Ny', '')\n",
    "    city = city.replace(' Ny', '')\n",
    "    city = city.replace(', New York', '')\n",
    "    city = city.replace('New York', '')\n",
    "    city = city.replace(', ', '')\n",
    "    city = city.replace(',', '')\n",
    "    city = city.replace(\"'S\", \"'s\")\n",
    "    \n",
    "    # Handle typos\n",
    "    city = city.replace('Sartoga', 'Saratoga')\n",
    "    city = city.replace('Spirngs', 'Springs')\n",
    "    city = city.replace('Srpings', 'Springs')\n",
    "    city = city.replace('Saranc', 'Saranac')\n",
    "    city = city.replace('Renssealaer', 'Rensselaer')\n",
    "    city = city.replace('Rensselear', 'Rensselaer')\n",
    "    city = city.replace('Pomoma', 'Pomona')\n",
    "    city = city.replace('0Neida', 'Oneida')\n",
    "    city = city.replace('Wapppingers Falls', 'Wappingers Falls')\n",
    "    city = city.replace('Wappinger Falls', 'Wappingers Falls')\n",
    "    city = city.replace('Poughkepsie', 'Poughkeepsie')\n",
    "    city = city.replace('Pouoghkeepsie', 'Poughkeepsie')\n",
    "    city = city.replace('Niag Ara', 'Niagara')\n",
    "    city = city.replace('Niagara Fallls', 'Niagara Falls')\n",
    "    city = city.replace('Lewistion', 'Lewiston')\n",
    "    city = city.replace('Cortlant', 'Cortlandt')\n",
    "    city = city.replace('Cortland Manor', 'Cortlandt Manor')\n",
    "    city = city.replace('Wellesley Isl.', 'Wellesley Island')\n",
    "    city = city.replace('Rotterdam Jct', 'Rotterdam Jct.')\n",
    "    city = city.replace('Blue Mt. Lake', 'Blue Mountain Lake')\n",
    "    city = city.replace('Blue Mtn Lake', 'Blue Mountain Lake')\n",
    "    city = city.replace('Bemus Pt.', 'Bemus Point')\n",
    "    city = city.replace('Annadale On Hudson', 'Annandale-on-Hudson')\n",
    "    city = city.replace('Annandale-On-Hudson', 'Annandale-on-Hudson')\n",
    "    city = city.replace('Albany County', 'Albany')\n",
    "    city = city.replace('Alb Any', 'Albany')\n",
    "    \n",
    "    # Returns city\n",
    "    return city"
   ]
  },
  {
   "cell_type": "code",
   "execution_count": 6,
   "metadata": {
    "scrolled": true
   },
   "outputs": [
    {
     "name": "stdout",
     "output_type": "stream",
     "text": [
      "Processing CSV...\n",
      "Done processing.\n"
     ]
    }
   ],
   "source": [
    "results = dict()\n",
    "violationLookup = dict()\n",
    "errorCount = 0\n",
    "\n",
    "print('Processing CSV...')\n",
    "\n",
    "# Iterates over each row in the dataframe\n",
    "for row in df.iterrows():\n",
    "    index, data = row\n",
    "    \n",
    "    if isinstance(data['ADDRESS'], float):\n",
    "        # print(data)\n",
    "        errorCount += 1\n",
    "        continue\n",
    "    elif ',  ' not in data['ADDRESS']:\n",
    "        # print(data)\n",
    "        errorCount += 1\n",
    "        continue\n",
    "    \n",
    "    # Defines defaultRestaurant object\n",
    "    defaultRestaurant = dict({\n",
    "        'facility_id': int(data['NYS HEALTH OPERATION ID']),\n",
    "        'facility': data['FACILITY'].strip().title().replace(\"'S\",\"'s\"),\n",
    "        'operation_name': data['OPERATION NAME'].strip().title().replace(\"'S\",\"'s\"),\n",
    "        'type': data['FOOD SERVICE TYPE'],\n",
    "        'description': data['FOOD SERVICE DESCRIPTION'],\n",
    "        'address': dict({\n",
    "            'street': data['ADDRESS'].split(',  ')[0].strip().title(),\n",
    "            'city': sanitizeCity(data['ADDRESS'].split(',  ')[1]),\n",
    "            'state': data['FS FACILITY STATE'].strip().upper(),\n",
    "            'zipcode': str(data['FACILITY POSTAL ZIPCODE']).strip()\n",
    "        }),\n",
    "        'inspections': []\n",
    "    })\n",
    "    \n",
    "    # Gets the parent restaurant, or returns defaultRestaurant\n",
    "    restaurant = results.get(data['FACILITY'].strip(), defaultRestaurant)\n",
    "\n",
    "    # Defines the default parent inspection for this violation \n",
    "    inspection = dict({\n",
    "        #'date': datetime.strptime(date, \"%m/%d/%y\"),\n",
    "        'date': data['DATE OF INSPECTION'],\n",
    "        'type': data['INSPECTION TYPE'],\n",
    "        'comment': data['INSPECTION COMMENTS'] or '',\n",
    "        'violations': []\n",
    "    })\n",
    "    \n",
    "    # Gets the parent inspection, or returns defaultInspection\n",
    "    # inspection = restaurant['inspections'].get(data['DATE OF INSPECTION'], defaultInspection)\n",
    "    hasParent = False\n",
    "    for insp in restaurant['inspections']:\n",
    "        if (insp['date'] == inspection['date']):\n",
    "            inspection = insp\n",
    "            hasParent = True\n",
    "\n",
    "    # Adds the individual violation to the inspection record\n",
    "    inspection['violations'].append(data['VIOLATION ITEM'])\n",
    "    \n",
    "    # Tracks the individual violation\n",
    "    violationLookup[data['VIOLATION ITEM']] = dict({\n",
    "        'desc': data['VIOLATION DESCRIPTION'],\n",
    "        'critical': data['CRITICAL VIOLATION'] == 'Not Critical Violation'\n",
    "    })\n",
    "        \n",
    "    # Adds the inspection to the parent restaurant\n",
    "    # restaurant['inspections'][data['DATE OF INSPECTION']] = inspection\n",
    "    if (not hasParent):\n",
    "        restaurant['inspections'].append(inspection)\n",
    "    \n",
    "    # Adds the restaurant to our complete list\n",
    "    results[data['FACILITY'].strip()] = restaurant\n",
    "print('Done processing.')"
   ]
  },
  {
   "cell_type": "code",
   "execution_count": 7,
   "metadata": {},
   "outputs": [
    {
     "data": {
      "text/plain": [
       "203"
      ]
     },
     "execution_count": 7,
     "metadata": {},
     "output_type": "execute_result"
    }
   ],
   "source": [
    "errorCount"
   ]
  },
  {
   "cell_type": "code",
   "execution_count": 8,
   "metadata": {},
   "outputs": [
    {
     "name": "stdout",
     "output_type": "stream",
     "text": [
      "Wrote Restaurants to MongoDb...\n"
     ]
    }
   ],
   "source": [
    "# Iterates over each Restaurant and inserts it into Mongo\n",
    "for k, v in results.items():\n",
    "    db['restaurants'].insert_one(v)\n",
    "#     print(json.dumps(v, indent=2)) \n",
    "\n",
    "# Logs..\n",
    "print('Wrote Restaurants to MongoDb...')"
   ]
  },
  {
   "cell_type": "code",
   "execution_count": 9,
   "metadata": {},
   "outputs": [],
   "source": [
    "# Writes the Restaurants to JSON\n",
    "# file = open('restaurants.json','w') \n",
    "# file.write(json.dumps(output, indent=2)) \n",
    "# file.close()\n",
    "# print(json.dumps(violationLookup, indent=2))"
   ]
  },
  {
   "cell_type": "code",
   "execution_count": 10,
   "metadata": {},
   "outputs": [
    {
     "name": "stdout",
     "output_type": "stream",
     "text": [
      "Wrote Violations to MongoDb...\n"
     ]
    }
   ],
   "source": [
    "# Iterates over each Violation and inserts it into Mongo\n",
    "for v in violationLookup.items():\n",
    "    db['violations'].insert_one(dict({ 'vid': v[0], 'desc': v[1]['desc'], 'critical': v[1]['critical'] == 'Critical'}))\n",
    "    # print(json.dumps(dict({ 'vid': v[0], 'desc': v[1]['desc'], 'critical': v[1]['critical'] == 'Critical'}), indent=2))\n",
    "\n",
    "# Logs..\n",
    "print('Wrote Violations to MongoDb...')"
   ]
  }
 ],
 "metadata": {
  "kernelspec": {
   "display_name": "Python 3",
   "language": "python",
   "name": "python3"
  },
  "language_info": {
   "codemirror_mode": {
    "name": "ipython",
    "version": 3
   },
   "file_extension": ".py",
   "mimetype": "text/x-python",
   "name": "python",
   "nbconvert_exporter": "python",
   "pygments_lexer": "ipython3",
   "version": "3.6.3"
  }
 },
 "nbformat": 4,
 "nbformat_minor": 2
}
